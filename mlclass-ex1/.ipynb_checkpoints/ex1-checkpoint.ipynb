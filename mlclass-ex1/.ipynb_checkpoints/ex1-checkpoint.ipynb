{
 "cells": [
  {
   "cell_type": "markdown",
   "metadata": {},
   "source": [
    "# Coursera ML Exercise 1"
   ]
  },
  {
   "cell_type": "code",
   "execution_count": 1,
   "metadata": {
    "collapsed": false
   },
   "outputs": [],
   "source": [
    "%matplotlib inline\n",
    "import numpy as np\n",
    "from matplotlib import pyplot as plt\n",
    "import pandas\n",
    "import os"
   ]
  },
  {
   "cell_type": "code",
   "execution_count": 2,
   "metadata": {
    "collapsed": false
   },
   "outputs": [
    {
     "data": {
      "image/png": "[encoded data removed]",
      "text/plain": [
       "<matplotlib.figure.Figure at 0x7fb786f85cc0>"
      ]
     },
     "metadata": {},
     "output_type": "display_data"
    }
   ],
   "source": [
    "data_food_trucks = pandas.read_table(\"ex1data1.txt\", sep = ',', header=None, names=['population', 'profit'])\n",
    "\n",
    "pop, profit = data_food_trucks.population, data_food_trucks.profit\n",
    "\n",
    "plt.scatter(pop, profit)\n",
    "plt.show()"
   ]
  },
  {
   "cell_type": "code",
   "execution_count": 3,
   "metadata": {
    "collapsed": false
   },
   "outputs": [],
   "source": [
    "X = pop.as_matrix()\n",
    "X = np.vstack((np.ones(len(X)), X))\n",
    "y = profit.as_matrix()"
   ]
  },
  {
   "cell_type": "code",
   "execution_count": 4,
   "metadata": {
    "collapsed": false
   },
   "outputs": [],
   "source": [
    "theta = np.zeros(2)\n",
    "\n",
    "iterations = 1500\n",
    "alpha = 0.01"
   ]
  },
  {
   "cell_type": "markdown",
   "metadata": {},
   "source": [
    "### 2.2.3 Computing the cost $J(\\theta)$\n",
    "\n",
    "Cost function given as:\n",
    "\n",
    "$$\\large J(\\theta) = \\frac{1}{2m}\\sum_{i=1}^{m} \\big( h_{\\theta}(x^{(i)}) - y^{(i)} \\big)^2  $$\n",
    "\n",
    "Where hypothesis function is $$ \\large h_{\\theta}(x) = \\theta^{T}x = \\theta_0 + \\theta_{1}x_1 $$"
   ]
  },
  {
   "cell_type": "code",
   "execution_count": 5,
   "metadata": {
    "collapsed": true
   },
   "outputs": [],
   "source": [
    "def computeCost(X, y, theta):\n",
    "    \"\"\"Computes cost function for given data X and y and parameters theta.\n",
    "    Implemented using numpy matrix multiplication\n",
    "    \"\"\"\n",
    "    m = len(y)\n",
    "    h_theta = np.dot(theta.T, X) # vector of all predictions\n",
    "    J = np.sum((h_theta - y) * (h_theta - y)) / (2*m)\n",
    "    return J\n",
    "    "
   ]
  },
  {
   "cell_type": "code",
   "execution_count": 6,
   "metadata": {
    "collapsed": false
   },
   "outputs": [
    {
     "data": {
      "text/plain": [
       "32.072733877455676"
      ]
     },
     "execution_count": 6,
     "metadata": {},
     "output_type": "execute_result"
    }
   ],
   "source": [
    "computeCost(X, y, theta)"
   ]
  },
  {
   "cell_type": "markdown",
   "metadata": {},
   "source": [
    "### 2.2.4 Gradient Descent\n",
    "\n",
    "Update equation given as:\n",
    "\n",
    "$$ \\large \\theta_j := \\theta_j - \\alpha\\frac{1}{m}\\sum_{i=1}^{m} \\big( h_{\\theta}(x^{(i)} - y^{(i)} \\big) x_{j}^{(i)}  $$\n",
    "\n",
    "(We're summing each difference times each $x^{(i)}$ for each row $j$ (for each feature). Essentially it's the same as summing elements of the vector equal to the element-wise product of the difference and the $j$-th row of $x$)"
   ]
  },
  {
   "cell_type": "code",
   "execution_count": 7,
   "metadata": {
    "collapsed": false
   },
   "outputs": [],
   "source": [
    "def updateParams(X, y, alpha, theta):\n",
    "    \"\"\"Given an old theta vector, computes and returns an updated theta vector\"\"\"\n",
    "    new_theta = np.zeros_like(theta) # initialize new theta vector\n",
    "    for j in range(len(new_theta)):\n",
    "        m = len(y)\n",
    "        h_theta = np.dot(theta.T, X) # vector of all predictions\n",
    "        new_theta[j] = theta[j] - (alpha/m) * np.sum((h_theta - y) * X[j])\n",
    "    return new_theta\n",
    "        "
   ]
  },
  {
   "cell_type": "code",
   "execution_count": 9,
   "metadata": {
    "collapsed": false
   },
   "outputs": [],
   "source": [
    "def gradient_descent(X, y, alpha, iterations=1500):\n",
    "    \"\"\"Performs gradient descent on training examples y and features X,\n",
    "    with learning rate alpha and some number of iterations. Returns output\n",
    "    theta, where theta is a vector of length X.rows. \"\"\"\n",
    "    theta = np.zeros(X.shape[0]) # number of rows in X. \n",
    "    for i in range(iterations):\n",
    "        theta = updateParams(X, y, alpha, theta)\n",
    "    return theta"
   ]
  },
  {
   "cell_type": "code",
   "execution_count": 16,
   "metadata": {
    "collapsed": false
   },
   "outputs": [],
   "source": [
    "model = gradient_descent(X, y, alpha, iterations)"
   ]
  },
  {
   "cell_type": "code",
   "execution_count": 18,
   "metadata": {
    "collapsed": false
   },
   "outputs": [
    {
     "data": {
      "image/png": "[encoded data removed]",
      "text/plain": [
       "<matplotlib.figure.Figure at 0x7fb784be4710>"
      ]
     },
     "metadata": {},
     "output_type": "display_data"
    }
   ],
   "source": [
    "plt.scatter(pop, profit)\n",
    "plot_x = np.linspace(0, 25, 1000)\n",
    "plt.show()"
   ]
  },
  {
   "cell_type": "code",
   "execution_count": 20,
   "metadata": {
    "collapsed": false
   },
   "outputs": [
    {
     "data": {
      "text/plain": [
       "50"
      ]
     },
     "execution_count": 20,
     "metadata": {},
     "output_type": "execute_result"
    }
   ],
   "source": []
  }
 ],
 "metadata": {
  "kernelspec": {
   "display_name": "Python 3",
   "language": "python",
   "name": "python3"
  },
  "language_info": {
   "codemirror_mode": {
    "name": "ipython",
    "version": 3
   },
   "file_extension": ".py",
   "mimetype": "text/x-python",
   "name": "python",
   "nbconvert_exporter": "python",
   "pygments_lexer": "ipython3",
   "version": "3.5.2"
  }
 },
 "nbformat": 4,
 "nbformat_minor": 0
}
